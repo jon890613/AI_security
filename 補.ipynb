{
  "nbformat": 4,
  "nbformat_minor": 0,
  "metadata": {
    "colab": {
      "name": "補.ipynb",
      "provenance": [],
      "authorship_tag": "ABX9TyM7YDg0uG8lljJLaZTFMr1R",
      "include_colab_link": true
    },
    "kernelspec": {
      "name": "python3",
      "display_name": "Python 3"
    }
  },
  "cells": [
    {
      "cell_type": "markdown",
      "metadata": {
        "id": "view-in-github",
        "colab_type": "text"
      },
      "source": [
        "<a href=\"https://colab.research.google.com/github/jon890613/AI_security/blob/master/%E8%A3%9C.ipynb\" target=\"_parent\"><img src=\"https://colab.research.google.com/assets/colab-badge.svg\" alt=\"Open In Colab\"/></a>"
      ]
    },
    {
      "cell_type": "code",
      "metadata": {
        "id": "X-xHOSy-Ooc9",
        "colab_type": "code",
        "colab": {
          "base_uri": "https://localhost:8080/",
          "height": 34
        },
        "outputId": "f0413723-81ed-459a-8d97-c34f31f32dab"
      },
      "source": [
        "output = '' #宣告\n",
        "\n",
        "for x in range(0,19,3): ##0~18每次跳3\n",
        "  output += str(x)\n",
        "  print(output, end=\" \")"
      ],
      "execution_count": 1,
      "outputs": [
        {
          "output_type": "stream",
          "text": [
            "0 03 036 0369 036912 03691215 0369121518 "
          ],
          "name": "stdout"
        }
      ]
    }
  ]
}