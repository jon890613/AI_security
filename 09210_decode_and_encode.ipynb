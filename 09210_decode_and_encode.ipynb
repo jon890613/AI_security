{
  "nbformat": 4,
  "nbformat_minor": 0,
  "metadata": {
    "colab": {
      "name": "09210_decode_and_encode.ipynb",
      "provenance": [],
      "authorship_tag": "ABX9TyP38si1zgE829cQsumSfZH0",
      "include_colab_link": true
    },
    "kernelspec": {
      "name": "python3",
      "display_name": "Python 3"
    }
  },
  "cells": [
    {
      "cell_type": "markdown",
      "metadata": {
        "id": "view-in-github",
        "colab_type": "text"
      },
      "source": [
        "<a href=\"https://colab.research.google.com/github/jon890613/AI_security/blob/master/09210_decode_and_encode.ipynb\" target=\"_parent\"><img src=\"https://colab.research.google.com/assets/colab-badge.svg\" alt=\"Open In Colab\"/></a>"
      ]
    },
    {
      "cell_type": "code",
      "metadata": {
        "id": "KD6_xvOyoYM2",
        "colab_type": "code",
        "colab": {
          "base_uri": "https://localhost:8080/",
          "height": 34
        },
        "outputId": "d368ec96-2401-4e01-cdcb-fddde987410c"
      },
      "source": [
        "a = \"66 114 101 97 107 65 76 76 67 84 70 123 65 109 118 48 117 68 121 101 114 118 80 116 109 86 114 57 83 83 83 75 125\".split(\" \")\n",
        "result = ' '\n",
        "for i in a:\n",
        "  result += chr(int(i))\n",
        "\n",
        "\n",
        "print(result)\n",
        "\n"
      ],
      "execution_count": 25,
      "outputs": [
        {
          "output_type": "stream",
          "text": [
            " BreakALLCTF{Amv0uDyervPtmVr9SSSK}\n"
          ],
          "name": "stdout"
        }
      ]
    },
    {
      "cell_type": "code",
      "metadata": {
        "id": "-na6_WKysQU9",
        "colab_type": "code",
        "colab": {
          "base_uri": "https://localhost:8080/",
          "height": 51
        },
        "outputId": "d6c39601-2cbd-411f-b1af-4d7816962fd6"
      },
      "source": [
        "import base64\n",
        "\n",
        "data =b'BreakAllCTF{HappyPythonDay}'\n",
        "encoded_data = base64.b64encode(data)\n",
        "print('Original Data :', data)\n",
        "print('Encoded :', encoded_data)"
      ],
      "execution_count": 22,
      "outputs": [
        {
          "output_type": "stream",
          "text": [
            "Original Data : b'BreakAllCTF{HappyPythonDay}'\n",
            "Encoded : b'QnJlYWtBbGxDVEZ7SGFwcHlQeXRob25EYXl9'\n"
          ],
          "name": "stdout"
        }
      ]
    },
    {
      "cell_type": "code",
      "metadata": {
        "id": "zchgYShUsZBF",
        "colab_type": "code",
        "colab": {
          "base_uri": "https://localhost:8080/",
          "height": 51
        },
        "outputId": "f459bff5-69f4-4154-a69e-053f5869e111"
      },
      "source": [
        "encoded_data = b'QnJlYWtBTExDVEZ7NTN1c1pRM2hXVzI1ZGNoWjdkWGV9'\n",
        "decoded_data = base64.b64decode(encoded_data)\n",
        "print('Encoded :', encoded_data)\n",
        "print('Decoded :', decoded_data)"
      ],
      "execution_count": 23,
      "outputs": [
        {
          "output_type": "stream",
          "text": [
            "Encoded : b'QnJlYWtBTExDVEZ7NTN1c1pRM2hXVzI1ZGNoWjdkWGV9'\n",
            "Decoded : b'BreakALLCTF{53usZQ3hWW25dchZ7dXe}'\n"
          ],
          "name": "stdout"
        }
      ]
    },
    {
      "cell_type": "code",
      "metadata": {
        "id": "xOz7tN0asrOU",
        "colab_type": "code",
        "colab": {
          "base_uri": "https://localhost:8080/",
          "height": 68
        },
        "outputId": "352691cf-edea-41dc-8d13-5d384734e7e1"
      },
      "source": [
        "original_data = b'BreakAllCTF{HappyPythonDay}'\n",
        "print('Original data:', original_data)\n",
        "\n",
        "encoded_data = base64.b32encode(original_data)\n",
        "print('Encoded :', encoded_data)\n",
        "\n",
        "decoded_data = base64.b32decode(encoded_data)\n",
        "print('Decoded :', decoded_data)"
      ],
      "execution_count": 24,
      "outputs": [
        {
          "output_type": "stream",
          "text": [
            "Original data: b'BreakAllCTF{HappyPythonDay}'\n",
            "Encoded : b'IJZGKYLLIFWGYQ2UIZ5UQYLQOB4VA6LUNBXW4RDBPF6Q===='\n",
            "Decoded : b'BreakAllCTF{HappyPythonDay}'\n"
          ],
          "name": "stdout"
        }
      ]
    }
  ]
}